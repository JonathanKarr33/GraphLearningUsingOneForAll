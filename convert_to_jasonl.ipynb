{
 "cells": [
  {
   "cell_type": "code",
   "execution_count": 81,
   "id": "d629fb0b-8421-44d3-be2d-f86b683d9e32",
   "metadata": {},
   "outputs": [],
   "source": [
    "import torch\n",
    "import pickle\n",
    "import torch_geometric\n",
    "import json\n",
    "#import lightning"
   ]
  },
  {
   "cell_type": "code",
   "execution_count": 41,
   "id": "b58dc69f-6e16-4a58-bc38-02e4f1b96535",
   "metadata": {},
   "outputs": [],
   "source": [
    "torch_data = torch.load(\"/afs/crc.nd.edu/user/j/jkarr/GraphClass/GraphLearningUsingOneForAll/data/Cora/cora.pt\").raw_text;"
   ]
  },
  {
   "cell_type": "code",
   "execution_count": 76,
   "id": "239351c1-a8b7-4240-b319-c7614fe78ee0",
   "metadata": {},
   "outputs": [],
   "source": [
    "with open(\"text_data_0\",\"rb\") as file:\n",
    "    data = pickle.load(file)"
   ]
  },
  {
   "cell_type": "code",
   "execution_count": 65,
   "id": "58ae2e58-3504-4d7c-863a-fd27f219b558",
   "metadata": {},
   "outputs": [],
   "source": [
    "#don't use this\n",
    "with open(\"text_data\",\"wb\") as file:\n",
    "    data = pickle.dump(['0'],file)\n",
    "\n"
   ]
  },
  {
   "cell_type": "code",
   "execution_count": 99,
   "id": "e56b5892-e75a-4a3a-b033-92302f859c2e",
   "metadata": {},
   "outputs": [],
   "source": [
    "output_filename = 'cora_data.jsonl'\n",
    "\n",
    "#clear file\n",
    "with open(output_filename, 'w') as clear_file:\n",
    "    pass\n",
    "\n",
    "#files from \"text_data_0\" to \"text_data_6\"\n",
    "for i in range(7):\n",
    "    input_filename = f'text_data_{i}'\n",
    "    \n",
    "    with open(input_filename, 'rb') as file:\n",
    "        data = pickle.load(file)\n",
    "\n",
    "    with open(output_filename, 'a') as output_file:\n",
    "        for line in data:\n",
    "            output_dict = {\"text\": line}\n",
    "            json_line = json.dumps(output_dict) + '\\n'\n",
    "            output_file.write(json_line)\n",
    "\n"
   ]
  },
  {
   "cell_type": "code",
   "execution_count": 89,
   "id": "69464b81-6be7-4af9-ae3b-7042a411e8cd",
   "metadata": {},
   "outputs": [],
   "source": [
    "data;"
   ]
  },
  {
   "cell_type": "code",
   "execution_count": null,
   "id": "8f7e47e0-10c8-4642-a9fe-0922e27ffe2c",
   "metadata": {},
   "outputs": [],
   "source": [
    "file = open(\"text_data_12\",\"wb\"); pickle.dump(data,file)"
   ]
  },
  {
   "cell_type": "code",
   "execution_count": null,
   "id": "3a8522ee-5406-416b-b86d-8e9ed7dd74b8",
   "metadata": {},
   "outputs": [],
   "source": []
  }
 ],
 "metadata": {
  "kernelspec": {
   "display_name": "RAPIDS",
   "language": "python",
   "name": "rapids"
  },
  "language_info": {
   "codemirror_mode": {
    "name": "ipython",
    "version": 3
   },
   "file_extension": ".py",
   "mimetype": "text/x-python",
   "name": "python",
   "nbconvert_exporter": "python",
   "pygments_lexer": "ipython3",
   "version": "3.9.15"
  }
 },
 "nbformat": 4,
 "nbformat_minor": 5
}
